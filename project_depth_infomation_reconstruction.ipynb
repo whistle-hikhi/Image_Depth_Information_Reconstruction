{
 "cells": [
  {
   "cell_type": "code",
   "execution_count": 4,
   "metadata": {},
   "outputs": [],
   "source": [
    "import cv2\n",
    "import numpy as np\n",
    "from numpy.linalg import norm"
   ]
  },
  {
   "cell_type": "code",
   "execution_count": 5,
   "metadata": {},
   "outputs": [],
   "source": [
    "def l1_distance(x, y):\n",
    "    return abs(x-y)\n",
    "\n",
    "def l2_distance(x, y):\n",
    "    return (x - y)**2"
   ]
  },
  {
   "cell_type": "code",
   "execution_count": 6,
   "metadata": {},
   "outputs": [],
   "source": [
    "left_img_path = 'tsukuba/left.png'\n",
    "right_img_path = 'tsukuba/right.png'"
   ]
  },
  {
   "cell_type": "markdown",
   "metadata": {},
   "source": [
    "# PIXEL-WISE MATCHING"
   ]
  },
  {
   "cell_type": "code",
   "execution_count": 7,
   "metadata": {},
   "outputs": [],
   "source": [
    "# Using pixel wise matching \n",
    "def pixel_wise_matching(left_img_path, right_img_path, disparity_range, scale= 16, disparity_range = 1, maxvalue =255):\n",
    "    # Grayscale\n",
    "    left = cv2.imread(left_img_path, 0)\n",
    "    # left = cv2.cvtColor(left, cv2.COLOR_BGR2GRAY)\n",
    "    right = cv2.imread(right_img_path, 0)\n",
    "\n",
    "    # Type Conversion\n",
    "    left = left.astype(np.float32)\n",
    "    right = right.astype(np.float32)\n",
    "\n",
    "    height, width = left.shape\n",
    "\n",
    "    # Create disparity map\n",
    "    depth = np.zeros(shape=(height, width), dtype= np.uint8)\n",
    "    \n",
    "    for h in range(height):\n",
    "        for w in range(width):\n",
    "            costs = []\n",
    "            for d in range(disparity_range):\n",
    "                if w - d < 0:\n",
    "                    cost = max_value\n",
    "                else:\n",
    "                    cost = abs(\n",
    "                            left[h, w] - right[h, w - d]\n",
    "                            )\n",
    "                costs.append(cost)\n",
    "            min_cost = min(costs)\n",
    "            min_cost_idx = costs.index(min_cost) # disparity\n",
    "\n",
    "            depth[h, w] = min_cost_idx * scale\n",
    "\n",
    "    return depth"
   ]
  },
  {
   "cell_type": "markdown",
   "metadata": {},
   "source": [
    "# WINDOW-BASED MATCHING"
   ]
  },
  {
   "cell_type": "code",
   "execution_count": 43,
   "metadata": {},
   "outputs": [],
   "source": [
    "def window_based_matching(left_img_path, right_img_path, disparity_range=16, scale=16, max_value=255*9, kernel_size=3):\n",
    "    \n",
    "    left = cv2.imread(left_img_path, 0)\n",
    "    right = cv2.imread(right_img_path, 0)\n",
    "\n",
    "    # Type Conversion\n",
    "    left = left.astype(np.float32)\n",
    "    right = right.astype(np.float32)\n",
    "\n",
    "    height, width = left.shape\n",
    "\n",
    "    # Create disparity map\n",
    "    depth = np.zeros(shape=(height, width), dtype= np.uint8)\n",
    "    \n",
    "    kernel_half = int((kernel_size - 1) / 2)\n",
    "    scale = scale\n",
    "    max_value = max_value\n",
    "\n",
    "    for y in range(kernel_half, height - kernel_half + 1):\n",
    "        for x in range(kernel_half, width - kernel_half + 1):\n",
    "\n",
    "            disparity = 0\n",
    "            cost_min = max_value\n",
    "\n",
    "            for j in range(disparity_range):\n",
    "                total = 0\n",
    "                value = 0\n",
    "\n",
    "                for v in range(-kernel_half, kernel_half):\n",
    "                    for u in range(-kernel_half, kernel_half):\n",
    "                        value = max_value\n",
    "                        if (x + u - j) >= 0:\n",
    "                            value = l1_distance(\n",
    "                                int(left[y + v, x + u]), int(right[y + v, (x + u) - j])\n",
    "                            )\n",
    "                            total += value\n",
    "                \n",
    "                if total < cost_min:\n",
    "                    cost_min = total\n",
    "                    disparity = j\n",
    "            \n",
    "            depth[y, x] = disparity * scale\n",
    "    \n",
    "    return depth\n",
    "\n",
    "    "
   ]
  },
  {
   "cell_type": "markdown",
   "metadata": {},
   "source": [
    "# WINDOW-BASED MATCHING with Cosine Similarity"
   ]
  },
  {
   "cell_type": "code",
   "execution_count": 11,
   "metadata": {},
   "outputs": [],
   "source": [
    "def cosine_similarity(x, y):\n",
    "    numerator = np.dot(x,y)\n",
    "    denominator = norm(x) * norm(y)\n",
    "    return numerator / denominator"
   ]
  },
  {
   "cell_type": "code",
   "execution_count": 35,
   "metadata": {},
   "outputs": [],
   "source": [
    "def window_based_cos_similarity(left_img_path, right_img_path, disparity_range=16, scale=16,  kernel_size=10):\n",
    "    left = cv2.imread(left_img_path, 0)\n",
    "    right = cv2.imread(right_img_path, 0)\n",
    "\n",
    "    # Type Conversion\n",
    "    left = left.astype(np.float32)\n",
    "    right = right.astype(np.float32)\n",
    "\n",
    "    height, width = left.shape[:2]\n",
    "\n",
    "    # Create disparity map\n",
    "    depth = np.zeros(shape=(height, width), dtype= np.uint8)\n",
    "    \n",
    "    kernel_half = int((kernel_size - 1) / 2)\n",
    "    scale = scale\n",
    "    \n",
    "    for y in range(kernel_half, height - kernel_half) :\n",
    "        for x in range(kernel_half, width - kernel_half):\n",
    "\n",
    "            disparity = 0\n",
    "            cost_optimal = -1\n",
    "\n",
    "            for j in range(disparity_range):\n",
    "                d = x - j\n",
    "                cost = -1\n",
    "                if (d - kernel_half) > 0:\n",
    "                    wp = left[(y-kernel_half):(y+kernel_half)+1, (x-kernel_half):(x+kernel_half)+1]\n",
    "                    wqd = right[(y-kernel_half):(y+kernel_half)+1, (d-kernel_half):(d+kernel_half)+1]\n",
    "\n",
    "                    wp_flattened = wp.flatten()\n",
    "                    wqd_flattened = wqd.flatten()\n",
    "\n",
    "                    cost = cosine_similarity(wp_flattened, wqd_flattened)\n",
    "\n",
    "                if cost > cost_optimal:\n",
    "                    cost_optimal = cost\n",
    "                    disparity = j\n",
    "                \n",
    "                depth[y, x] = disparity * scale\n",
    "                \n",
    "    return depth\n"
   ]
  }
 ],
 "metadata": {
  "kernelspec": {
   "display_name": "Python 3",
   "language": "python",
   "name": "python3"
  },
  "language_info": {
   "codemirror_mode": {
    "name": "ipython",
    "version": 3
   },
   "file_extension": ".py",
   "mimetype": "text/x-python",
   "name": "python",
   "nbconvert_exporter": "python",
   "pygments_lexer": "ipython3",
   "version": "3.10.11"
  },
  "orig_nbformat": 4
 },
 "nbformat": 4,
 "nbformat_minor": 2
}
